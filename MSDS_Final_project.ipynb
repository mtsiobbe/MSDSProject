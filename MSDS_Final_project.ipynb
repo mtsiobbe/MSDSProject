{
 "cells": [
  {
   "cell_type": "code",
   "execution_count": null,
   "metadata": {},
   "outputs": [],
   "source": [
    "from sympy import *\n",
    "from sympy.physics.mechanics import *\n",
    "\n",
    "# enable LaTeX #printing\n",
    "init_vprinting()"
   ]
  },
  {
   "cell_type": "code",
   "execution_count": null,
   "metadata": {},
   "outputs": [],
   "source": [
    "t, g, l1, l2, l3, l4, l5, r1, r2, r3, r4, r5, m1, m2, m3, m4, m5, i1, i2, i3, i4, i5 = symbols('t g l_1 l_2 l_3 l_4 l_5 r_1 r_2 r_3 r_4 r_5 m_1 m_2 m_3 m_4 m_5 I_1 I_2 I_3 I_4 I_5')\n",
    "q1, q2, q3, q4, q5, a = dynamicsymbols(r'\\theta_1 \\theta_2 \\theta_3 \\theta_4 \\theta_5 \\alpha')\n",
    "pi, g1, g2, g3, g4, g5, La = symbols('\\pi G_1 G_2 G_3 G_4 G_5 L')"
   ]
  },
  {
   "cell_type": "code",
   "execution_count": null,
   "metadata": {},
   "outputs": [],
   "source": [
    "a = (Rational(1,2) * pi) + q5 + q2 + q3\n",
    "\n",
    "q1_d = diff(q1, t)\n",
    "q2_d = diff(q2, t)\n",
    "q3_d = diff(q3, t)\n",
    "q4_d = diff(q4, t)\n",
    "q5_d = diff(q5, t)\n",
    "q1_dd = diff(q1_d, t)\n",
    "q2_dd = diff(q2_d, t)\n",
    "q3_dd = diff(q3_d, t)\n",
    "q4_dd = diff(q4_d, t)\n",
    "q5_dd = diff(q5_d, t)\n"
   ]
  },
  {
   "cell_type": "code",
   "execution_count": null,
   "metadata": {},
   "outputs": [],
   "source": [
    "def get_rot_mat(theta):\n",
    "    \n",
    "    cth = cos(theta)\n",
    "    sth = sin(theta)\n",
    "    rot_mat = Matrix([[cth, -1*sth], [sth, cth]])\n",
    "    \n",
    "    return rot_mat"
   ]
  },
  {
   "cell_type": "code",
   "execution_count": null,
   "metadata": {},
   "outputs": [],
   "source": [
    "A0 = get_rot_mat(a)\n",
    "A1 = get_rot_mat(q1)\n",
    "A2 = get_rot_mat(q2)\n",
    "A3 = get_rot_mat(q3)\n",
    "A4 = get_rot_mat(q4)\n",
    "A5 = get_rot_mat(q5)"
   ]
  },
  {
   "cell_type": "code",
   "execution_count": null,
   "metadata": {},
   "outputs": [],
   "source": [
    "parts = {'tibia1': 1, 'femur1': 2, 'torso': 3, 'femur2': 4, 'tibia2': 5}\n",
    "part_maping = {0: 0, 1: 3, 2: 2, 3: 5, 4: 1, 5: 4} \n",
    "\n",
    "property_maping = {\n",
    "                   0: [0, A0, 0, 0, 0, 0],1: [q1, A1, l1, m1, i1, q1_d, g1], 2: [q2, A2, l2, m2, i2, q2_d, g2], \n",
    "                   3: [q3, A3, l3, m3, i3, q3_d, g3], 4: [q4, A4, l4, m4, i4, q4_d, g4], 5: [q5, A5, l5, m5, i5, q5_d, g5]\n",
    "                  }"
   ]
  },
  {
   "cell_type": "code",
   "execution_count": null,
   "metadata": {},
   "outputs": [],
   "source": [
    "def get_path(where):\n",
    "    \n",
    "    part = parts[where]\n",
    "    path = []\n",
    "\n",
    "    for i in range(part, 0, -1):\n",
    "        if part > 3:\n",
    "            if i != 3:\n",
    "                path.append(i)\n",
    "        else:\n",
    "            path.append(i)\n",
    "            \n",
    "    return path"
   ]
  },
  {
   "cell_type": "code",
   "execution_count": null,
   "metadata": {},
   "outputs": [],
   "source": [
    "def get_locations(path_part_map):\n",
    "    \n",
    "    locations = [l1, l2, l3, l4, l5]\n",
    "    locations_cg = [r1, l2-r2, l3-r3, r4, r5]\n",
    "    \n",
    "    replace_cg_index = path_part_map[0]-1\n",
    "    locations[replace_cg_index] = locations_cg[replace_cg_index]\n",
    "    \n",
    "    final_loc = [locations[i-1] for i in path_part_map]\n",
    "    \n",
    "    return final_loc"
   ]
  },
  {
   "cell_type": "code",
   "execution_count": null,
   "metadata": {},
   "outputs": [],
   "source": [
    "def get_path_part_map(where):\n",
    "    \n",
    "    path = get_path(where)\n",
    "    part_maping = {0: 0, 1: 3, 2: 2, 3: 5, 4: 1, 5: 4} \n",
    "    path_part_map = [part_maping[i] for i in path]\n",
    "    \n",
    "    return path_part_map"
   ]
  },
  {
   "cell_type": "code",
   "execution_count": null,
   "metadata": {},
   "outputs": [],
   "source": [
    "def get_link_length(part):\n",
    "    return [property_maping[part][2]], [0]"
   ]
  },
  {
   "cell_type": "code",
   "execution_count": null,
   "metadata": {},
   "outputs": [],
   "source": [
    "def get_part_coord(where):\n",
    "    \n",
    "    part = parts[where]\n",
    "    path = get_path(where)\n",
    "    \n",
    "    path_part_map = get_path_part_map(where)\n",
    "    cg_locations = get_locations(path_part_map)\n",
    "    \n",
    "    rot_mat = A0\n",
    "    coord = Matrix([[0], [0]])\n",
    "    local_frame = coord\n",
    "    \n",
    "    for i in range(len(path_part_map)-1, -1, -1):\n",
    "        coord += rot_mat * Matrix(get_link_length(path_part_map[i]))\n",
    "        rot_mat *= property_maping[i+1][1]\n",
    "#         #print(\"i: \", i, \"\\t part: \", path_part_map[i])\n",
    "    \n",
    "    coord += rot_mat*local_frame\n",
    "    \n",
    "    return coord"
   ]
  },
  {
   "cell_type": "code",
   "execution_count": null,
   "metadata": {},
   "outputs": [],
   "source": [
    "def get_coord():\n",
    "    for part, id in parts.items():\n",
    "#     #print(property_maping[part_maping[id]][6])\n",
    "        property_maping[part_maping[id]].append(get_part_coord(part))"
   ]
  },
  {
   "cell_type": "code",
   "execution_count": null,
   "metadata": {},
   "outputs": [],
   "source": [
    "def get_v_squared(coord):\n",
    "    \n",
    "    #print('finding diffs')\n",
    "    x_d_sq = diff(coord[0], t)**2\n",
    "    y_d_sq = diff(coord[1], t)**2\n",
    "    \n",
    "    #print('adding diffs')\n",
    "    v_2 = x_d_sq + y_d_sq\n",
    "    \n",
    "    return v_2"
   ]
  },
  {
   "cell_type": "code",
   "execution_count": null,
   "metadata": {},
   "outputs": [],
   "source": [
    "def get_langrange():\n",
    "    \n",
    "    T = 0\n",
    "    V = 0\n",
    "    \n",
    "    for i in range(1, len(property_maping)):\n",
    "        \n",
    "        #print('in  index: ', i)\n",
    "        \n",
    "        mass = property_maping[i][3]\n",
    "        inertia = property_maping[i][4]\n",
    "        position_vector = property_maping[i][7]\n",
    "        angle_d_sq = property_maping[i][5]**2\n",
    "        \n",
    "        #print('\\tfinding v_sq')\n",
    "        v_sq = get_v_squared(position_vector)\n",
    "        \n",
    "        #print('\\tAdding to energies')\n",
    "        #print('\\t\\tNow T')\n",
    "        T += Rational(1,2) * mass * v_sq\n",
    "        T += Rational(1,2) * inertia * angle_d_sq\n",
    "        #print('\\t\\tNow V')\n",
    "        V += mass * g * position_vector[1]\n",
    "    \n",
    "    #print('Lagrange - finding')\n",
    "    L = T-V\n",
    "    #print('L is done simplifying now...')\n",
    "    return L"
   ]
  },
  {
   "cell_type": "code",
   "execution_count": null,
   "metadata": {},
   "outputs": [],
   "source": [
    "def get_equations_of_motion(L, q, q_d):\n",
    "    LE = diff(L, q) - diff(diff(L, q_d), t)\n",
    "    return LE"
   ]
  },
  {
   "cell_type": "code",
   "execution_count": null,
   "metadata": {},
   "outputs": [],
   "source": [
    "def lagrange():\n",
    "    \n",
    "    #print('getting the generalised coordinates now...')\n",
    "    get_coord()\n",
    "    #print('getting lagrange now...')\n",
    "    L = get_langrange()\n",
    "    La = L\n",
    "    for i in range(1, len(property_maping)):\n",
    "        LEi = get_equations_of_motion(L, property_maping[i][0], property_maping[i][5])\n",
    "        property_maping[i].append(LEi)\n",
    "        #print(\"Done for index: \", i)"
   ]
  },
  {
   "cell_type": "code",
   "execution_count": null,
   "metadata": {},
   "outputs": [],
   "source": [
    "def solve_for_dds():\n",
    "    LE = [property_maping[i][8] for i in range(1, len(property_maping))]\n",
    "    sols = solve([LE[0], LE[1], LE[2], LE[3], LE[4]], (q1_dd, q2_dd, q3_dd, q4_dd, q5_dd),\n",
    "                simplify=False, rational=False)\n",
    "    return sols"
   ]
  },
  {
   "cell_type": "code",
   "execution_count": null,
   "metadata": {},
   "outputs": [],
   "source": [
    "def get_subs(r_c = 'c', c = 0):\n",
    "    substitutions = {q1_dd: 0, q2_dd: 0, q3_dd: 0, q4_dd: 0, q5_dd: 0, q1_d : 0, q2_d : 0, q3_d : 0, q4_d : 0, q5_d : 0, q1 : 0, q2 : 0, q3 : 0, q4 : 0, q5 : 0}\n",
    "    if r_c == 'c':\n",
    "        if c == 1:\n",
    "            substitutions[q1_dd] = 1\n",
    "        elif c == 1:\n",
    "            substitutions[q2_dd] = 1\n",
    "        elif c == 1:\n",
    "            substitutions[q3_dd] = 1\n",
    "        elif c == 1:\n",
    "            substitutions[q4_dd] = 1\n",
    "        elif c == 1:\n",
    "            substitutions[q5_dd] = 1\n",
    "    return substitutions\n",
    "\n",
    "mass_matrix = []\n",
    "c = []\n",
    "\n",
    "def get_mass_matrix_and_c_matrix():\n",
    "    for i in range(1, len(property_maping)):\n",
    "        LE = property_maping[i][8]\n",
    "        mm_row = []\n",
    "        for j in range(1, len(property_maping)):  \n",
    "            sub = get_subs('c', j)\n",
    "            MM = simplify(LE.subs(sub))\n",
    "            mm_row.append(MM)\n",
    "        mass_matrix.append(mm_row)\n",
    "    #print('Mass matrix done')\n",
    "\n",
    "    for i in range(1, len(property_maping)):\n",
    "        LE = property_maping[i][8]\n",
    "        sub = get_subs()\n",
    "        #print(\"in index: \", i)\n",
    "        c_row = [LE.subs(sub)]\n",
    "        c.append(c_row)"
   ]
  },
  {
   "cell_type": "code",
   "execution_count": null,
   "metadata": {},
   "outputs": [],
   "source": [
    "def call_in_order():\n",
    "    #get_lagrangian\n",
    "    lagrange()\n",
    "    #find the mass matrix and c matrix to get the state space form\n",
    "    get_mass_matrix_and_c_matrix()"
   ]
  },
  {
   "cell_type": "code",
   "execution_count": null,
   "metadata": {},
   "outputs": [],
   "source": []
  }
 ],
 "metadata": {
  "language_info": {
   "name": "python"
  }
 },
 "nbformat": 4,
 "nbformat_minor": 2
}
